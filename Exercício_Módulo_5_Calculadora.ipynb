{
  "nbformat": 4,
  "nbformat_minor": 0,
  "metadata": {
    "colab": {
      "provenance": [],
      "authorship_tag": "ABX9TyOlfHX/5aoJTgBitPbwE4f8"
    },
    "kernelspec": {
      "name": "python3",
      "display_name": "Python 3"
    },
    "language_info": {
      "name": "python"
    }
  },
  "cells": [
    {
      "cell_type": "code",
      "execution_count": null,
      "metadata": {
        "id": "RsBcppn-9WUp",
        "colab": {
          "base_uri": "https://localhost:8080/"
        },
        "outputId": "aeedc876-5394-475a-dd2e-80f492f429e7"
      },
      "outputs": [
        {
          "name": "stdout",
          "output_type": "stream",
          "text": [
            "Digite um número: 60\n",
            "Digite outro número: 15\n",
            "Para somar escolha '+'\n",
            "Para subtrair escolha '-'\n",
            "Para multiplicar escolha '*'\n",
            "Para dividir escolha '/'\n",
            "Escolha uma opção: /\n",
            "O resultado da operacao é:  4.0\n",
            "Deseja realizar outra operação?\n",
            "S\n",
            "N\n",
            "n\n",
            "O resultado da operacao é:  4.0\n",
            "Deseja realizar outra operação?\n",
            "S\n",
            "N\n",
            "n\n"
          ]
        }
      ],
      "source": [
        "while True:\n",
        "\n",
        "  x = float(input(\"Digite um número: \"))\n",
        "  y = float(input(\"Digite outro número: \"))\n",
        "  print(\"Para somar escolha '+'\\nPara subtrair escolha '-'\\nPara multiplicar escolha '*'\\nPara dividir escolha '/'\")\n",
        "\n",
        "  operacao = input(\"Escolha uma opção: \")\n",
        "\n",
        "\n",
        "  if operacao == \"+\":\n",
        "    print(\"O resultado da operacao é: \" , (x+y))\n",
        "\n",
        "  elif operacao == \"-\":\n",
        "    print(\"O resultado da operacao é: \" , (x-y))\n",
        "\n",
        "  elif operacao == \"*\":\n",
        "    print(\"O resultado da operacao é: \" , (x*y))\n",
        "\n",
        "  elif operacao == \"/\":\n",
        "    print(\"O resultado da operacao é: \" , (x/y))\n",
        "\n",
        "  else:\n",
        "  print(\"Operação inexistene\" )\n",
        "\n",
        "if input(\"Deseja realizar outra operação?\\nS\\nN\\n\") != 's':\n",
        "    exit()\n",
        "\n",
        "else:\n",
        "  x = float(input(\"Digite um número: \"))\n",
        "  y = float(input(\"Digite outro número: \"))\n",
        "\n",
        "  print(\"Para somar escolha '+'\\nPara subtrair escolha '-'\\nPara multiplicar escolha '*'\\nPara dividir escolha '/'\")\n",
        "  operacao = input(\"Escolha uma opção: \")\n",
        "\n",
        "\n",
        "if operacao == \"+\":\n",
        "  print(\"O resultado da operacao é: \" , (x+y))\n",
        "\n",
        "elif operacao == \"-\":\n",
        "  print(\"O resultado da operacao é: \" , (x-y))\n",
        "\n",
        "elif operacao == \"*\":\n",
        "  print(\"O resultado da operacao é: \" , (x*y))\n",
        "\n",
        "elif operacao == \"/\":\n",
        "  print(\"O resultado da operacao é: \" , (x/y))\n",
        "\n",
        "else:\n",
        "  print(\"Operação inexistene\" )\n",
        "\n",
        "if input(\"Deseja realizar outra operação?\\nS\\nN\\n\") != 's':\n",
        "    exit()\n"
      ]
    }
  ]
}