{
  "nbformat": 4,
  "nbformat_minor": 0,
  "metadata": {
    "colab": {
      "provenance": [],
      "authorship_tag": "ABX9TyMGlVT4KDT5kZt+SmBwkSD8"
    },
    "kernelspec": {
      "name": "python3",
      "display_name": "Python 3"
    },
    "language_info": {
      "name": "python"
    }
  },
  "cells": [
    {
      "cell_type": "code",
      "execution_count": 13,
      "metadata": {
        "colab": {
          "base_uri": "https://localhost:8080/"
        },
        "id": "rgXooWMV9xyj",
        "outputId": "631c39ca-0920-48fc-e9ac-28d25932d8ee"
      },
      "outputs": [
        {
          "name": "stdout",
          "output_type": "stream",
          "text": [
            "Insira o primeiro número: 65\n",
            "Insira o segundo número: 5\n",
            "Qual operação deseja fazer?\n",
            "1 = Soma,\n",
            "2 = Subtração,\n",
            "3 = Divisão e/ou\n",
            "4 = Multiplicação\n",
            "3\n",
            "O resultado é igula a : 13.0\n",
            "Deseja realizar outra operação? s/n\n",
            "s\n",
            "Insira o primeiro número: 658\n",
            "Insira o segundo número: 8\n",
            "Qual operação deseja fazer?\n",
            "1 = Soma,\n",
            "2 = Subtração,\n",
            "3 = Divisão e/ou\n",
            "4 = Multiplicação\n",
            "4\n",
            "O resultado é igula a : 5264.0\n",
            "Deseja realizar outra operação? s/n\n",
            "n\n"
          ]
        }
      ],
      "source": [
        "while True:\n",
        "  a = float(input(\"Insira o primeiro número: \"))\n",
        "  b = float(input(\"Insira o segundo número: \"))\n",
        "  c = input(\"Qual operação deseja fazer?\\n1 = Soma,\\n2 = Subtração,\\n3 = Divisão e/ou\\n4 = Multiplicação\\n\")\n",
        "\n",
        "  if c == '1':\n",
        "    print(\"O resultado é igula a :\", a + b)\n",
        "  elif c == '2':\n",
        "    print(\"O resultado é igula a :\", a - b)\n",
        "  elif c == '3':\n",
        "    if b == 0:\n",
        "      print(\"Não é possível dividir por zero\")\n",
        "    else:\n",
        "      print(\"O resultado é igula a :\", a / b)\n",
        "  elif c == '4':\n",
        "    print(\"O resultado é igula a :\", a * b)\n",
        "  else:\n",
        "    print(\"Operação inválida\")\n",
        "  if (input(\"Deseja realizar outra operação? s/n\\n\")).lower() != 's':\n",
        "    break\n",
        "\n",
        ""
      ]
    }
  ]
}