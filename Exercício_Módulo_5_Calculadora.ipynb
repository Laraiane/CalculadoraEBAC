{
  "nbformat": 4,
  "nbformat_minor": 0,
  "metadata": {
    "colab": {
      "provenance": [],
      "authorship_tag": "ABX9TyMGlVT4KDT5kZt+SmBwkSD8"
    },
    "kernelspec": {
      "name": "python3",
      "display_name": "Python 3"
    },
    "language_info": {
      "name": "python"
    }
  },
  "cells": [
    {
      "cell_type": "code",
      "execution_count": null,
      "metadata": {
        "id": "rgXooWMV9xyj"
      },
      "outputs": [],
      "source": [
        "while True:\n",
        "  a = float(input(\"Insira o primeiro número: \"))\n",
        "  b = float(input(\"Insira o segundo número: \"))\n",
        "  c = input(\"Qual operação deseja fazer?\\n1 = Soma,\\n2 = Subtração,\\n3 = Divisão e/ou\\n4 = Multiplicação\\n\")\n",
        "\n",
        "  if c == '1':\n",
        "    print(\"O resultado é igula a :\", a + b)\n",
        "  elif c == '2':\n",
        "    print(\"O resultado é igula a :\", a - b)\n",
        "  elif c == '3':\n",
        "    if b == 0:\n",
        "      print(\"Não é possível dividir por zero\")\n",
        "    else:\n",
        "      print(\"O resultado é igula a :\", a / b)\n",
        "  elif c == '4':\n",
        "    print(\"O resultado é igula a :\", a * b)\n",
        "  else:\n",
        "    print(\"Operação inválida\")\n",
        "  if (input(\"Deseja realizar outra operação? s/n\\n\")).lower() != 's':\n",
        "    break\n",
        "\n",
        ""
      ]
    }
  ]
}